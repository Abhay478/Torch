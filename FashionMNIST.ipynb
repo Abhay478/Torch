{
 "cells": [
  {
   "cell_type": "code",
   "execution_count": 29,
   "metadata": {},
   "outputs": [],
   "source": [
    "import os\n",
    "import torch\n",
    "from torch import nn\n",
    "from torch.utils.data import DataLoader, Dataset\n",
    "from torchvision import datasets, transforms\n",
    "import numpy as np\n",
    "from torchvision.transforms import ToTensor, Lambda\n",
    "from torch.optim import SGD\n",
    "\n",
    "device = (\n",
    "    \"cuda\"\n",
    "    if torch.cuda.is_available()\n",
    "    else \"mps\"\n",
    "    if torch.backends.mps.is_available()\n",
    "    else \"cpu\"\n",
    ")"
   ]
  },
  {
   "cell_type": "code",
   "execution_count": 30,
   "metadata": {},
   "outputs": [],
   "source": [
    "class MyNN(nn.Module):\n",
    "    def __init__(self) -> None:\n",
    "        super().__init__()\n",
    "        self.flatten = nn.Flatten()\n",
    "        self.stack = nn.Sequential(\n",
    "            nn.Linear(784, 512),\n",
    "            nn.ReLU(),\n",
    "            nn.Linear(512, 512),\n",
    "            nn.ReLU(),\n",
    "            nn.Linear(512, 120),\n",
    "            nn.ReLU(),\n",
    "            nn.Linear(120, 10)\n",
    "        )\n",
    "    \n",
    "    def forward(self, x): \n",
    "        return self.stack(self.flatten(x))\n",
    "    \n",
    "    \n",
    "model = MyNN()"
   ]
  },
  {
   "cell_type": "code",
   "execution_count": 31,
   "metadata": {},
   "outputs": [],
   "source": [
    "\n",
    "training_data = datasets.FashionMNIST(\n",
    "    root=\"data\",\n",
    "    train=True,\n",
    "    download=True,\n",
    "    transform=ToTensor(),\n",
    "    # target_transform=Lambda(lambda y: torch.zeros(10, dtype=torch.float).scatter_(dim=0, index=torch.tensor(y), value=1))\n",
    ")\n",
    "\n",
    "test_data = datasets.FashionMNIST(\n",
    "    root=\"data\",\n",
    "    train=False,\n",
    "    download=True,\n",
    "    transform=ToTensor(),\n",
    "    # target_transform=Lambda(lambda y: torch.zeros(10, dtype=torch.float).scatter_(dim=0, index=torch.tensor(y), value=1))\n",
    ")\n",
    "\n",
    "train_dataloader = DataLoader(training_data, batch_size=64, shuffle=True)\n",
    "test_dataloader = DataLoader(test_data, batch_size=64, shuffle=True)"
   ]
  },
  {
   "cell_type": "code",
   "execution_count": 32,
   "metadata": {},
   "outputs": [],
   "source": [
    "learning_rate = 0.01\n",
    "batch_size = 64\n",
    "epochs = 10\n",
    "\n",
    "\n",
    "loss_fn = nn.CrossEntropyLoss()\n",
    "optimizer = SGD(model.parameters(), lr=learning_rate)"
   ]
  },
  {
   "cell_type": "code",
   "execution_count": 33,
   "metadata": {},
   "outputs": [],
   "source": [
    "def train(dl: DataLoader, model: MyNN, loss, opt: SGD):\n",
    "    model.train()\n",
    "    for i, (x, y) in enumerate(dl):\n",
    "        # print(y)\n",
    "        p = model(x)\n",
    "        # print(p)\n",
    "        l = loss(p, y)\n",
    "        \n",
    "        l.backward()\n",
    "        opt.step()\n",
    "        opt.zero_grad()"
   ]
  },
  {
   "cell_type": "code",
   "execution_count": 34,
   "metadata": {},
   "outputs": [],
   "source": [
    "def test(dl: DataLoader, model: MyNN, loss):\n",
    "    model.eval()\n",
    "    sz = len(dl.dataset)\n",
    "    b = len(dl)\n",
    "    # print(b)\n",
    "    c, tl = 0, 0\n",
    "    \n",
    "    with torch.no_grad():\n",
    "        for x, y in dl:\n",
    "            p = model(x)\n",
    "            tl += loss(p, y).item()\n",
    "            # print(p.argmax(1))\n",
    "            c += (p.argmax(1) == y).type(torch.float).sum().item()\n",
    "            \n",
    "    tl /= b\n",
    "    c /= sz\n",
    "    \n",
    "    print(f\"Loss: {tl}\")\n",
    "    print(f\"Acc: {c}\")\n",
    "            "
   ]
  },
  {
   "cell_type": "code",
   "execution_count": 35,
   "metadata": {},
   "outputs": [
    {
     "name": "stdout",
     "output_type": "stream",
     "text": [
      "Epoch 0.\n",
      "Loss: 0.9932247635665213\n",
      "Acc: 0.596\n",
      "Epoch 1.\n",
      "Loss: 0.7822378406858748\n",
      "Acc: 0.7322\n",
      "Epoch 2.\n",
      "Loss: 0.6506427399292114\n",
      "Acc: 0.7546\n",
      "Epoch 3.\n",
      "Loss: 0.5669387795363262\n",
      "Acc: 0.8035\n",
      "Epoch 4.\n",
      "Loss: 0.5303962393930763\n",
      "Acc: 0.8111\n",
      "Epoch 5.\n",
      "Loss: 0.49942008837772783\n",
      "Acc: 0.8252\n",
      "Epoch 6.\n",
      "Loss: 0.4863054866244079\n",
      "Acc: 0.8268\n",
      "Epoch 7.\n",
      "Loss: 0.47773106348742345\n",
      "Acc: 0.8278\n",
      "Epoch 8.\n",
      "Loss: 0.4931648350824976\n",
      "Acc: 0.8225\n",
      "Epoch 9.\n",
      "Loss: 0.4685398661976407\n",
      "Acc: 0.8324\n"
     ]
    }
   ],
   "source": [
    "for t in range(epochs):\n",
    "    print(f\"Epoch {t}.\")\n",
    "    train(train_dataloader, model, loss_fn, optimizer)\n",
    "    test(test_dataloader, model, loss_fn)\n",
    "    \n",
    "torch.save(model, 'first.pt')"
   ]
  }
 ],
 "metadata": {
  "kernelspec": {
   "display_name": "Python 3",
   "language": "python",
   "name": "python3"
  },
  "language_info": {
   "codemirror_mode": {
    "name": "ipython",
    "version": 3
   },
   "file_extension": ".py",
   "mimetype": "text/x-python",
   "name": "python",
   "nbconvert_exporter": "python",
   "pygments_lexer": "ipython3",
   "version": "3.11.3"
  },
  "orig_nbformat": 4
 },
 "nbformat": 4,
 "nbformat_minor": 2
}
